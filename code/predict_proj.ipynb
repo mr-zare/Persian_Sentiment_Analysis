{
  "nbformat": 4,
  "nbformat_minor": 0,
  "metadata": {
    "colab": {
      "provenance": [],
      "gpuType": "T4"
    },
    "kernelspec": {
      "name": "python3",
      "display_name": "Python 3"
    },
    "language_info": {
      "name": "python"
    },
    "accelerator": "GPU",
    "widgets": {
      "application/vnd.jupyter.widget-state+json": {
        "0caa3b096def48fa9d99e95c4376ef4e": {
          "model_module": "@jupyter-widgets/controls",
          "model_name": "HBoxModel",
          "model_module_version": "1.5.0",
          "state": {
            "_dom_classes": [],
            "_model_module": "@jupyter-widgets/controls",
            "_model_module_version": "1.5.0",
            "_model_name": "HBoxModel",
            "_view_count": null,
            "_view_module": "@jupyter-widgets/controls",
            "_view_module_version": "1.5.0",
            "_view_name": "HBoxView",
            "box_style": "",
            "children": [
              "IPY_MODEL_bfae0d4e7688428db0931b023fbc0692",
              "IPY_MODEL_db9eb4e89f5f42a08c1f301a0dea6e4b",
              "IPY_MODEL_f6c12fbe06b04b26903f8484609b212e"
            ],
            "layout": "IPY_MODEL_30bde1dd511d4eb186a02eb7245a7f3b"
          }
        },
        "bfae0d4e7688428db0931b023fbc0692": {
          "model_module": "@jupyter-widgets/controls",
          "model_name": "HTMLModel",
          "model_module_version": "1.5.0",
          "state": {
            "_dom_classes": [],
            "_model_module": "@jupyter-widgets/controls",
            "_model_module_version": "1.5.0",
            "_model_name": "HTMLModel",
            "_view_count": null,
            "_view_module": "@jupyter-widgets/controls",
            "_view_module_version": "1.5.0",
            "_view_name": "HTMLView",
            "description": "",
            "description_tooltip": null,
            "layout": "IPY_MODEL_9a462144b8374d14b5d06e438e180288",
            "placeholder": "​",
            "style": "IPY_MODEL_3b661e737c724843978f43ee3b86b600",
            "value": "sentencepiece.bpe.model: 100%"
          }
        },
        "db9eb4e89f5f42a08c1f301a0dea6e4b": {
          "model_module": "@jupyter-widgets/controls",
          "model_name": "FloatProgressModel",
          "model_module_version": "1.5.0",
          "state": {
            "_dom_classes": [],
            "_model_module": "@jupyter-widgets/controls",
            "_model_module_version": "1.5.0",
            "_model_name": "FloatProgressModel",
            "_view_count": null,
            "_view_module": "@jupyter-widgets/controls",
            "_view_module_version": "1.5.0",
            "_view_name": "ProgressView",
            "bar_style": "success",
            "description": "",
            "description_tooltip": null,
            "layout": "IPY_MODEL_58bb2d8db9954e779c2c77eac9a44362",
            "max": 5069051,
            "min": 0,
            "orientation": "horizontal",
            "style": "IPY_MODEL_2b8d20dc3fab4d8d887ae7041b3a287b",
            "value": 5069051
          }
        },
        "f6c12fbe06b04b26903f8484609b212e": {
          "model_module": "@jupyter-widgets/controls",
          "model_name": "HTMLModel",
          "model_module_version": "1.5.0",
          "state": {
            "_dom_classes": [],
            "_model_module": "@jupyter-widgets/controls",
            "_model_module_version": "1.5.0",
            "_model_name": "HTMLModel",
            "_view_count": null,
            "_view_module": "@jupyter-widgets/controls",
            "_view_module_version": "1.5.0",
            "_view_name": "HTMLView",
            "description": "",
            "description_tooltip": null,
            "layout": "IPY_MODEL_69f40d660ad04aaf87fa42127775e74b",
            "placeholder": "​",
            "style": "IPY_MODEL_a2712951f6134e49988fa39ff5872a07",
            "value": " 5.07M/5.07M [00:01&lt;00:00, 4.29MB/s]"
          }
        },
        "30bde1dd511d4eb186a02eb7245a7f3b": {
          "model_module": "@jupyter-widgets/base",
          "model_name": "LayoutModel",
          "model_module_version": "1.2.0",
          "state": {
            "_model_module": "@jupyter-widgets/base",
            "_model_module_version": "1.2.0",
            "_model_name": "LayoutModel",
            "_view_count": null,
            "_view_module": "@jupyter-widgets/base",
            "_view_module_version": "1.2.0",
            "_view_name": "LayoutView",
            "align_content": null,
            "align_items": null,
            "align_self": null,
            "border": null,
            "bottom": null,
            "display": null,
            "flex": null,
            "flex_flow": null,
            "grid_area": null,
            "grid_auto_columns": null,
            "grid_auto_flow": null,
            "grid_auto_rows": null,
            "grid_column": null,
            "grid_gap": null,
            "grid_row": null,
            "grid_template_areas": null,
            "grid_template_columns": null,
            "grid_template_rows": null,
            "height": null,
            "justify_content": null,
            "justify_items": null,
            "left": null,
            "margin": null,
            "max_height": null,
            "max_width": null,
            "min_height": null,
            "min_width": null,
            "object_fit": null,
            "object_position": null,
            "order": null,
            "overflow": null,
            "overflow_x": null,
            "overflow_y": null,
            "padding": null,
            "right": null,
            "top": null,
            "visibility": null,
            "width": null
          }
        },
        "9a462144b8374d14b5d06e438e180288": {
          "model_module": "@jupyter-widgets/base",
          "model_name": "LayoutModel",
          "model_module_version": "1.2.0",
          "state": {
            "_model_module": "@jupyter-widgets/base",
            "_model_module_version": "1.2.0",
            "_model_name": "LayoutModel",
            "_view_count": null,
            "_view_module": "@jupyter-widgets/base",
            "_view_module_version": "1.2.0",
            "_view_name": "LayoutView",
            "align_content": null,
            "align_items": null,
            "align_self": null,
            "border": null,
            "bottom": null,
            "display": null,
            "flex": null,
            "flex_flow": null,
            "grid_area": null,
            "grid_auto_columns": null,
            "grid_auto_flow": null,
            "grid_auto_rows": null,
            "grid_column": null,
            "grid_gap": null,
            "grid_row": null,
            "grid_template_areas": null,
            "grid_template_columns": null,
            "grid_template_rows": null,
            "height": null,
            "justify_content": null,
            "justify_items": null,
            "left": null,
            "margin": null,
            "max_height": null,
            "max_width": null,
            "min_height": null,
            "min_width": null,
            "object_fit": null,
            "object_position": null,
            "order": null,
            "overflow": null,
            "overflow_x": null,
            "overflow_y": null,
            "padding": null,
            "right": null,
            "top": null,
            "visibility": null,
            "width": null
          }
        },
        "3b661e737c724843978f43ee3b86b600": {
          "model_module": "@jupyter-widgets/controls",
          "model_name": "DescriptionStyleModel",
          "model_module_version": "1.5.0",
          "state": {
            "_model_module": "@jupyter-widgets/controls",
            "_model_module_version": "1.5.0",
            "_model_name": "DescriptionStyleModel",
            "_view_count": null,
            "_view_module": "@jupyter-widgets/base",
            "_view_module_version": "1.2.0",
            "_view_name": "StyleView",
            "description_width": ""
          }
        },
        "58bb2d8db9954e779c2c77eac9a44362": {
          "model_module": "@jupyter-widgets/base",
          "model_name": "LayoutModel",
          "model_module_version": "1.2.0",
          "state": {
            "_model_module": "@jupyter-widgets/base",
            "_model_module_version": "1.2.0",
            "_model_name": "LayoutModel",
            "_view_count": null,
            "_view_module": "@jupyter-widgets/base",
            "_view_module_version": "1.2.0",
            "_view_name": "LayoutView",
            "align_content": null,
            "align_items": null,
            "align_self": null,
            "border": null,
            "bottom": null,
            "display": null,
            "flex": null,
            "flex_flow": null,
            "grid_area": null,
            "grid_auto_columns": null,
            "grid_auto_flow": null,
            "grid_auto_rows": null,
            "grid_column": null,
            "grid_gap": null,
            "grid_row": null,
            "grid_template_areas": null,
            "grid_template_columns": null,
            "grid_template_rows": null,
            "height": null,
            "justify_content": null,
            "justify_items": null,
            "left": null,
            "margin": null,
            "max_height": null,
            "max_width": null,
            "min_height": null,
            "min_width": null,
            "object_fit": null,
            "object_position": null,
            "order": null,
            "overflow": null,
            "overflow_x": null,
            "overflow_y": null,
            "padding": null,
            "right": null,
            "top": null,
            "visibility": null,
            "width": null
          }
        },
        "2b8d20dc3fab4d8d887ae7041b3a287b": {
          "model_module": "@jupyter-widgets/controls",
          "model_name": "ProgressStyleModel",
          "model_module_version": "1.5.0",
          "state": {
            "_model_module": "@jupyter-widgets/controls",
            "_model_module_version": "1.5.0",
            "_model_name": "ProgressStyleModel",
            "_view_count": null,
            "_view_module": "@jupyter-widgets/base",
            "_view_module_version": "1.2.0",
            "_view_name": "StyleView",
            "bar_color": null,
            "description_width": ""
          }
        },
        "69f40d660ad04aaf87fa42127775e74b": {
          "model_module": "@jupyter-widgets/base",
          "model_name": "LayoutModel",
          "model_module_version": "1.2.0",
          "state": {
            "_model_module": "@jupyter-widgets/base",
            "_model_module_version": "1.2.0",
            "_model_name": "LayoutModel",
            "_view_count": null,
            "_view_module": "@jupyter-widgets/base",
            "_view_module_version": "1.2.0",
            "_view_name": "LayoutView",
            "align_content": null,
            "align_items": null,
            "align_self": null,
            "border": null,
            "bottom": null,
            "display": null,
            "flex": null,
            "flex_flow": null,
            "grid_area": null,
            "grid_auto_columns": null,
            "grid_auto_flow": null,
            "grid_auto_rows": null,
            "grid_column": null,
            "grid_gap": null,
            "grid_row": null,
            "grid_template_areas": null,
            "grid_template_columns": null,
            "grid_template_rows": null,
            "height": null,
            "justify_content": null,
            "justify_items": null,
            "left": null,
            "margin": null,
            "max_height": null,
            "max_width": null,
            "min_height": null,
            "min_width": null,
            "object_fit": null,
            "object_position": null,
            "order": null,
            "overflow": null,
            "overflow_x": null,
            "overflow_y": null,
            "padding": null,
            "right": null,
            "top": null,
            "visibility": null,
            "width": null
          }
        },
        "a2712951f6134e49988fa39ff5872a07": {
          "model_module": "@jupyter-widgets/controls",
          "model_name": "DescriptionStyleModel",
          "model_module_version": "1.5.0",
          "state": {
            "_model_module": "@jupyter-widgets/controls",
            "_model_module_version": "1.5.0",
            "_model_name": "DescriptionStyleModel",
            "_view_count": null,
            "_view_module": "@jupyter-widgets/base",
            "_view_module_version": "1.2.0",
            "_view_name": "StyleView",
            "description_width": ""
          }
        },
        "15e23aaff84148e7898180a8fbf482e1": {
          "model_module": "@jupyter-widgets/controls",
          "model_name": "HBoxModel",
          "model_module_version": "1.5.0",
          "state": {
            "_dom_classes": [],
            "_model_module": "@jupyter-widgets/controls",
            "_model_module_version": "1.5.0",
            "_model_name": "HBoxModel",
            "_view_count": null,
            "_view_module": "@jupyter-widgets/controls",
            "_view_module_version": "1.5.0",
            "_view_name": "HBoxView",
            "box_style": "",
            "children": [
              "IPY_MODEL_53b468ad62fc4673a1092418ffcf4156",
              "IPY_MODEL_9dc2527f1e4c4199bb47b70d36f8c725",
              "IPY_MODEL_456ef6dd8cd94f3fabfc937634f71a39"
            ],
            "layout": "IPY_MODEL_30bc30dc948143bd83fbbb75dccb82dc"
          }
        },
        "53b468ad62fc4673a1092418ffcf4156": {
          "model_module": "@jupyter-widgets/controls",
          "model_name": "HTMLModel",
          "model_module_version": "1.5.0",
          "state": {
            "_dom_classes": [],
            "_model_module": "@jupyter-widgets/controls",
            "_model_module_version": "1.5.0",
            "_model_name": "HTMLModel",
            "_view_count": null,
            "_view_module": "@jupyter-widgets/controls",
            "_view_module_version": "1.5.0",
            "_view_name": "HTMLView",
            "description": "",
            "description_tooltip": null,
            "layout": "IPY_MODEL_bc2a789391a04981a3860bcea8011277",
            "placeholder": "​",
            "style": "IPY_MODEL_8d024d78dd154588bca5064533ac9075",
            "value": "tokenizer.json: 100%"
          }
        },
        "9dc2527f1e4c4199bb47b70d36f8c725": {
          "model_module": "@jupyter-widgets/controls",
          "model_name": "FloatProgressModel",
          "model_module_version": "1.5.0",
          "state": {
            "_dom_classes": [],
            "_model_module": "@jupyter-widgets/controls",
            "_model_module_version": "1.5.0",
            "_model_name": "FloatProgressModel",
            "_view_count": null,
            "_view_module": "@jupyter-widgets/controls",
            "_view_module_version": "1.5.0",
            "_view_name": "ProgressView",
            "bar_style": "success",
            "description": "",
            "description_tooltip": null,
            "layout": "IPY_MODEL_884f647e86bf458bba5b0d6273923189",
            "max": 9096718,
            "min": 0,
            "orientation": "horizontal",
            "style": "IPY_MODEL_749748d82a25451bb1df306b4c7737cd",
            "value": 9096718
          }
        },
        "456ef6dd8cd94f3fabfc937634f71a39": {
          "model_module": "@jupyter-widgets/controls",
          "model_name": "HTMLModel",
          "model_module_version": "1.5.0",
          "state": {
            "_dom_classes": [],
            "_model_module": "@jupyter-widgets/controls",
            "_model_module_version": "1.5.0",
            "_model_name": "HTMLModel",
            "_view_count": null,
            "_view_module": "@jupyter-widgets/controls",
            "_view_module_version": "1.5.0",
            "_view_name": "HTMLView",
            "description": "",
            "description_tooltip": null,
            "layout": "IPY_MODEL_a273bf1ce7414c20b844552c332e4640",
            "placeholder": "​",
            "style": "IPY_MODEL_72d85d8bbcbd448380d856e0ddd7dde4",
            "value": " 9.10M/9.10M [00:05&lt;00:00, 1.55MB/s]"
          }
        },
        "30bc30dc948143bd83fbbb75dccb82dc": {
          "model_module": "@jupyter-widgets/base",
          "model_name": "LayoutModel",
          "model_module_version": "1.2.0",
          "state": {
            "_model_module": "@jupyter-widgets/base",
            "_model_module_version": "1.2.0",
            "_model_name": "LayoutModel",
            "_view_count": null,
            "_view_module": "@jupyter-widgets/base",
            "_view_module_version": "1.2.0",
            "_view_name": "LayoutView",
            "align_content": null,
            "align_items": null,
            "align_self": null,
            "border": null,
            "bottom": null,
            "display": null,
            "flex": null,
            "flex_flow": null,
            "grid_area": null,
            "grid_auto_columns": null,
            "grid_auto_flow": null,
            "grid_auto_rows": null,
            "grid_column": null,
            "grid_gap": null,
            "grid_row": null,
            "grid_template_areas": null,
            "grid_template_columns": null,
            "grid_template_rows": null,
            "height": null,
            "justify_content": null,
            "justify_items": null,
            "left": null,
            "margin": null,
            "max_height": null,
            "max_width": null,
            "min_height": null,
            "min_width": null,
            "object_fit": null,
            "object_position": null,
            "order": null,
            "overflow": null,
            "overflow_x": null,
            "overflow_y": null,
            "padding": null,
            "right": null,
            "top": null,
            "visibility": null,
            "width": null
          }
        },
        "bc2a789391a04981a3860bcea8011277": {
          "model_module": "@jupyter-widgets/base",
          "model_name": "LayoutModel",
          "model_module_version": "1.2.0",
          "state": {
            "_model_module": "@jupyter-widgets/base",
            "_model_module_version": "1.2.0",
            "_model_name": "LayoutModel",
            "_view_count": null,
            "_view_module": "@jupyter-widgets/base",
            "_view_module_version": "1.2.0",
            "_view_name": "LayoutView",
            "align_content": null,
            "align_items": null,
            "align_self": null,
            "border": null,
            "bottom": null,
            "display": null,
            "flex": null,
            "flex_flow": null,
            "grid_area": null,
            "grid_auto_columns": null,
            "grid_auto_flow": null,
            "grid_auto_rows": null,
            "grid_column": null,
            "grid_gap": null,
            "grid_row": null,
            "grid_template_areas": null,
            "grid_template_columns": null,
            "grid_template_rows": null,
            "height": null,
            "justify_content": null,
            "justify_items": null,
            "left": null,
            "margin": null,
            "max_height": null,
            "max_width": null,
            "min_height": null,
            "min_width": null,
            "object_fit": null,
            "object_position": null,
            "order": null,
            "overflow": null,
            "overflow_x": null,
            "overflow_y": null,
            "padding": null,
            "right": null,
            "top": null,
            "visibility": null,
            "width": null
          }
        },
        "8d024d78dd154588bca5064533ac9075": {
          "model_module": "@jupyter-widgets/controls",
          "model_name": "DescriptionStyleModel",
          "model_module_version": "1.5.0",
          "state": {
            "_model_module": "@jupyter-widgets/controls",
            "_model_module_version": "1.5.0",
            "_model_name": "DescriptionStyleModel",
            "_view_count": null,
            "_view_module": "@jupyter-widgets/base",
            "_view_module_version": "1.2.0",
            "_view_name": "StyleView",
            "description_width": ""
          }
        },
        "884f647e86bf458bba5b0d6273923189": {
          "model_module": "@jupyter-widgets/base",
          "model_name": "LayoutModel",
          "model_module_version": "1.2.0",
          "state": {
            "_model_module": "@jupyter-widgets/base",
            "_model_module_version": "1.2.0",
            "_model_name": "LayoutModel",
            "_view_count": null,
            "_view_module": "@jupyter-widgets/base",
            "_view_module_version": "1.2.0",
            "_view_name": "LayoutView",
            "align_content": null,
            "align_items": null,
            "align_self": null,
            "border": null,
            "bottom": null,
            "display": null,
            "flex": null,
            "flex_flow": null,
            "grid_area": null,
            "grid_auto_columns": null,
            "grid_auto_flow": null,
            "grid_auto_rows": null,
            "grid_column": null,
            "grid_gap": null,
            "grid_row": null,
            "grid_template_areas": null,
            "grid_template_columns": null,
            "grid_template_rows": null,
            "height": null,
            "justify_content": null,
            "justify_items": null,
            "left": null,
            "margin": null,
            "max_height": null,
            "max_width": null,
            "min_height": null,
            "min_width": null,
            "object_fit": null,
            "object_position": null,
            "order": null,
            "overflow": null,
            "overflow_x": null,
            "overflow_y": null,
            "padding": null,
            "right": null,
            "top": null,
            "visibility": null,
            "width": null
          }
        },
        "749748d82a25451bb1df306b4c7737cd": {
          "model_module": "@jupyter-widgets/controls",
          "model_name": "ProgressStyleModel",
          "model_module_version": "1.5.0",
          "state": {
            "_model_module": "@jupyter-widgets/controls",
            "_model_module_version": "1.5.0",
            "_model_name": "ProgressStyleModel",
            "_view_count": null,
            "_view_module": "@jupyter-widgets/base",
            "_view_module_version": "1.2.0",
            "_view_name": "StyleView",
            "bar_color": null,
            "description_width": ""
          }
        },
        "a273bf1ce7414c20b844552c332e4640": {
          "model_module": "@jupyter-widgets/base",
          "model_name": "LayoutModel",
          "model_module_version": "1.2.0",
          "state": {
            "_model_module": "@jupyter-widgets/base",
            "_model_module_version": "1.2.0",
            "_model_name": "LayoutModel",
            "_view_count": null,
            "_view_module": "@jupyter-widgets/base",
            "_view_module_version": "1.2.0",
            "_view_name": "LayoutView",
            "align_content": null,
            "align_items": null,
            "align_self": null,
            "border": null,
            "bottom": null,
            "display": null,
            "flex": null,
            "flex_flow": null,
            "grid_area": null,
            "grid_auto_columns": null,
            "grid_auto_flow": null,
            "grid_auto_rows": null,
            "grid_column": null,
            "grid_gap": null,
            "grid_row": null,
            "grid_template_areas": null,
            "grid_template_columns": null,
            "grid_template_rows": null,
            "height": null,
            "justify_content": null,
            "justify_items": null,
            "left": null,
            "margin": null,
            "max_height": null,
            "max_width": null,
            "min_height": null,
            "min_width": null,
            "object_fit": null,
            "object_position": null,
            "order": null,
            "overflow": null,
            "overflow_x": null,
            "overflow_y": null,
            "padding": null,
            "right": null,
            "top": null,
            "visibility": null,
            "width": null
          }
        },
        "72d85d8bbcbd448380d856e0ddd7dde4": {
          "model_module": "@jupyter-widgets/controls",
          "model_name": "DescriptionStyleModel",
          "model_module_version": "1.5.0",
          "state": {
            "_model_module": "@jupyter-widgets/controls",
            "_model_module_version": "1.5.0",
            "_model_name": "DescriptionStyleModel",
            "_view_count": null,
            "_view_module": "@jupyter-widgets/base",
            "_view_module_version": "1.2.0",
            "_view_name": "StyleView",
            "description_width": ""
          }
        },
        "34d06772394345e4a46b1f0f298aadf2": {
          "model_module": "@jupyter-widgets/controls",
          "model_name": "HBoxModel",
          "model_module_version": "1.5.0",
          "state": {
            "_dom_classes": [],
            "_model_module": "@jupyter-widgets/controls",
            "_model_module_version": "1.5.0",
            "_model_name": "HBoxModel",
            "_view_count": null,
            "_view_module": "@jupyter-widgets/controls",
            "_view_module_version": "1.5.0",
            "_view_name": "HBoxView",
            "box_style": "",
            "children": [
              "IPY_MODEL_c15603a0787947348dfe5bbc306f41c9",
              "IPY_MODEL_27b13a8c46b34591848601d069d1b5e9",
              "IPY_MODEL_9da7c638ee42412c8ffb7125c7ce5b35"
            ],
            "layout": "IPY_MODEL_14aa5770a9f24a7884fd1a919184888b"
          }
        },
        "c15603a0787947348dfe5bbc306f41c9": {
          "model_module": "@jupyter-widgets/controls",
          "model_name": "HTMLModel",
          "model_module_version": "1.5.0",
          "state": {
            "_dom_classes": [],
            "_model_module": "@jupyter-widgets/controls",
            "_model_module_version": "1.5.0",
            "_model_name": "HTMLModel",
            "_view_count": null,
            "_view_module": "@jupyter-widgets/controls",
            "_view_module_version": "1.5.0",
            "_view_name": "HTMLView",
            "description": "",
            "description_tooltip": null,
            "layout": "IPY_MODEL_5daf7b1efb8a47539a336db73edba700",
            "placeholder": "​",
            "style": "IPY_MODEL_81fa825742944dadb6e98c9cd8a18ca0",
            "value": "config.json: 100%"
          }
        },
        "27b13a8c46b34591848601d069d1b5e9": {
          "model_module": "@jupyter-widgets/controls",
          "model_name": "FloatProgressModel",
          "model_module_version": "1.5.0",
          "state": {
            "_dom_classes": [],
            "_model_module": "@jupyter-widgets/controls",
            "_model_module_version": "1.5.0",
            "_model_name": "FloatProgressModel",
            "_view_count": null,
            "_view_module": "@jupyter-widgets/controls",
            "_view_module_version": "1.5.0",
            "_view_name": "ProgressView",
            "bar_style": "success",
            "description": "",
            "description_tooltip": null,
            "layout": "IPY_MODEL_d4b3a9ce7b7146098ed61620bcea7a31",
            "max": 615,
            "min": 0,
            "orientation": "horizontal",
            "style": "IPY_MODEL_0f3994f99ff6477b89d876a32369165c",
            "value": 615
          }
        },
        "9da7c638ee42412c8ffb7125c7ce5b35": {
          "model_module": "@jupyter-widgets/controls",
          "model_name": "HTMLModel",
          "model_module_version": "1.5.0",
          "state": {
            "_dom_classes": [],
            "_model_module": "@jupyter-widgets/controls",
            "_model_module_version": "1.5.0",
            "_model_name": "HTMLModel",
            "_view_count": null,
            "_view_module": "@jupyter-widgets/controls",
            "_view_module_version": "1.5.0",
            "_view_name": "HTMLView",
            "description": "",
            "description_tooltip": null,
            "layout": "IPY_MODEL_67c3a2e3c2774c19abb841f5e503578c",
            "placeholder": "​",
            "style": "IPY_MODEL_ca969e9b6c3d4729b9e75c4bf178c1a1",
            "value": " 615/615 [00:00&lt;00:00, 42.3kB/s]"
          }
        },
        "14aa5770a9f24a7884fd1a919184888b": {
          "model_module": "@jupyter-widgets/base",
          "model_name": "LayoutModel",
          "model_module_version": "1.2.0",
          "state": {
            "_model_module": "@jupyter-widgets/base",
            "_model_module_version": "1.2.0",
            "_model_name": "LayoutModel",
            "_view_count": null,
            "_view_module": "@jupyter-widgets/base",
            "_view_module_version": "1.2.0",
            "_view_name": "LayoutView",
            "align_content": null,
            "align_items": null,
            "align_self": null,
            "border": null,
            "bottom": null,
            "display": null,
            "flex": null,
            "flex_flow": null,
            "grid_area": null,
            "grid_auto_columns": null,
            "grid_auto_flow": null,
            "grid_auto_rows": null,
            "grid_column": null,
            "grid_gap": null,
            "grid_row": null,
            "grid_template_areas": null,
            "grid_template_columns": null,
            "grid_template_rows": null,
            "height": null,
            "justify_content": null,
            "justify_items": null,
            "left": null,
            "margin": null,
            "max_height": null,
            "max_width": null,
            "min_height": null,
            "min_width": null,
            "object_fit": null,
            "object_position": null,
            "order": null,
            "overflow": null,
            "overflow_x": null,
            "overflow_y": null,
            "padding": null,
            "right": null,
            "top": null,
            "visibility": null,
            "width": null
          }
        },
        "5daf7b1efb8a47539a336db73edba700": {
          "model_module": "@jupyter-widgets/base",
          "model_name": "LayoutModel",
          "model_module_version": "1.2.0",
          "state": {
            "_model_module": "@jupyter-widgets/base",
            "_model_module_version": "1.2.0",
            "_model_name": "LayoutModel",
            "_view_count": null,
            "_view_module": "@jupyter-widgets/base",
            "_view_module_version": "1.2.0",
            "_view_name": "LayoutView",
            "align_content": null,
            "align_items": null,
            "align_self": null,
            "border": null,
            "bottom": null,
            "display": null,
            "flex": null,
            "flex_flow": null,
            "grid_area": null,
            "grid_auto_columns": null,
            "grid_auto_flow": null,
            "grid_auto_rows": null,
            "grid_column": null,
            "grid_gap": null,
            "grid_row": null,
            "grid_template_areas": null,
            "grid_template_columns": null,
            "grid_template_rows": null,
            "height": null,
            "justify_content": null,
            "justify_items": null,
            "left": null,
            "margin": null,
            "max_height": null,
            "max_width": null,
            "min_height": null,
            "min_width": null,
            "object_fit": null,
            "object_position": null,
            "order": null,
            "overflow": null,
            "overflow_x": null,
            "overflow_y": null,
            "padding": null,
            "right": null,
            "top": null,
            "visibility": null,
            "width": null
          }
        },
        "81fa825742944dadb6e98c9cd8a18ca0": {
          "model_module": "@jupyter-widgets/controls",
          "model_name": "DescriptionStyleModel",
          "model_module_version": "1.5.0",
          "state": {
            "_model_module": "@jupyter-widgets/controls",
            "_model_module_version": "1.5.0",
            "_model_name": "DescriptionStyleModel",
            "_view_count": null,
            "_view_module": "@jupyter-widgets/base",
            "_view_module_version": "1.2.0",
            "_view_name": "StyleView",
            "description_width": ""
          }
        },
        "d4b3a9ce7b7146098ed61620bcea7a31": {
          "model_module": "@jupyter-widgets/base",
          "model_name": "LayoutModel",
          "model_module_version": "1.2.0",
          "state": {
            "_model_module": "@jupyter-widgets/base",
            "_model_module_version": "1.2.0",
            "_model_name": "LayoutModel",
            "_view_count": null,
            "_view_module": "@jupyter-widgets/base",
            "_view_module_version": "1.2.0",
            "_view_name": "LayoutView",
            "align_content": null,
            "align_items": null,
            "align_self": null,
            "border": null,
            "bottom": null,
            "display": null,
            "flex": null,
            "flex_flow": null,
            "grid_area": null,
            "grid_auto_columns": null,
            "grid_auto_flow": null,
            "grid_auto_rows": null,
            "grid_column": null,
            "grid_gap": null,
            "grid_row": null,
            "grid_template_areas": null,
            "grid_template_columns": null,
            "grid_template_rows": null,
            "height": null,
            "justify_content": null,
            "justify_items": null,
            "left": null,
            "margin": null,
            "max_height": null,
            "max_width": null,
            "min_height": null,
            "min_width": null,
            "object_fit": null,
            "object_position": null,
            "order": null,
            "overflow": null,
            "overflow_x": null,
            "overflow_y": null,
            "padding": null,
            "right": null,
            "top": null,
            "visibility": null,
            "width": null
          }
        },
        "0f3994f99ff6477b89d876a32369165c": {
          "model_module": "@jupyter-widgets/controls",
          "model_name": "ProgressStyleModel",
          "model_module_version": "1.5.0",
          "state": {
            "_model_module": "@jupyter-widgets/controls",
            "_model_module_version": "1.5.0",
            "_model_name": "ProgressStyleModel",
            "_view_count": null,
            "_view_module": "@jupyter-widgets/base",
            "_view_module_version": "1.2.0",
            "_view_name": "StyleView",
            "bar_color": null,
            "description_width": ""
          }
        },
        "67c3a2e3c2774c19abb841f5e503578c": {
          "model_module": "@jupyter-widgets/base",
          "model_name": "LayoutModel",
          "model_module_version": "1.2.0",
          "state": {
            "_model_module": "@jupyter-widgets/base",
            "_model_module_version": "1.2.0",
            "_model_name": "LayoutModel",
            "_view_count": null,
            "_view_module": "@jupyter-widgets/base",
            "_view_module_version": "1.2.0",
            "_view_name": "LayoutView",
            "align_content": null,
            "align_items": null,
            "align_self": null,
            "border": null,
            "bottom": null,
            "display": null,
            "flex": null,
            "flex_flow": null,
            "grid_area": null,
            "grid_auto_columns": null,
            "grid_auto_flow": null,
            "grid_auto_rows": null,
            "grid_column": null,
            "grid_gap": null,
            "grid_row": null,
            "grid_template_areas": null,
            "grid_template_columns": null,
            "grid_template_rows": null,
            "height": null,
            "justify_content": null,
            "justify_items": null,
            "left": null,
            "margin": null,
            "max_height": null,
            "max_width": null,
            "min_height": null,
            "min_width": null,
            "object_fit": null,
            "object_position": null,
            "order": null,
            "overflow": null,
            "overflow_x": null,
            "overflow_y": null,
            "padding": null,
            "right": null,
            "top": null,
            "visibility": null,
            "width": null
          }
        },
        "ca969e9b6c3d4729b9e75c4bf178c1a1": {
          "model_module": "@jupyter-widgets/controls",
          "model_name": "DescriptionStyleModel",
          "model_module_version": "1.5.0",
          "state": {
            "_model_module": "@jupyter-widgets/controls",
            "_model_module_version": "1.5.0",
            "_model_name": "DescriptionStyleModel",
            "_view_count": null,
            "_view_module": "@jupyter-widgets/base",
            "_view_module_version": "1.2.0",
            "_view_name": "StyleView",
            "description_width": ""
          }
        }
      }
    }
  },
  "cells": [
    {
      "cell_type": "code",
      "source": [
        "import pandas as pd\n",
        "import os\n",
        "import torch\n",
        "from torch import nn\n",
        "import torch.nn.functional as F\n",
        "from torch.utils.data import DataLoader, Dataset\n",
        "from transformers import BertTokenizer, BertModel, AdamW, get_linear_schedule_with_warmup, RobertaModel, RobertaTokenizer,XLMRobertaTokenizer  ,AutoConfig,AutoTokenizer,AutoModel\n",
        "from transformers import XLMRobertaModel\n",
        "from sklearn.model_selection import train_test_split\n",
        "from sklearn.metrics import accuracy_score, classification_report\n",
        "from tqdm import tqdm\n",
        "import matplotlib.pyplot as plt"
      ],
      "metadata": {
        "id": "mPoLPrXPX8QK"
      },
      "execution_count": null,
      "outputs": []
    },
    {
      "cell_type": "code",
      "source": [
        "class XLMRobertaClassifier(nn.Module):\n",
        "  def __init__(self, model_name, num_classes):\n",
        "    super(XLMRobertaClassifier, self).__init__()\n",
        "    self.bert = XLMRobertaModel.from_pretrained(model_name)\n",
        "    self.dropout = nn.Dropout(0.1)\n",
        "    self.fc = nn.Linear(self.bert.config.hidden_size, num_classes)\n",
        "\n",
        "  def forward(self, input_ids, attention_mask):\n",
        "    outputs = self.bert(input_ids=input_ids, attention_mask=attention_mask)\n",
        "    pooled_output = outputs.pooler_output\n",
        "    x = self.dropout(pooled_output)\n",
        "    logits = self.fc(x)\n",
        "    return logits"
      ],
      "metadata": {
        "id": "7HS8BKX4Ybho"
      },
      "execution_count": null,
      "outputs": []
    },
    {
      "cell_type": "code",
      "source": [
        "! git clone https://github.com/Arman-Rayan-Sharif/arman-text-emotion.git"
      ],
      "metadata": {
        "colab": {
          "base_uri": "https://localhost:8080/"
        },
        "id": "kAVirKq_bSy6",
        "outputId": "56176c9b-f85f-4008-ba87-2610720260aa"
      },
      "execution_count": null,
      "outputs": [
        {
          "output_type": "stream",
          "name": "stdout",
          "text": [
            "Cloning into 'arman-text-emotion'...\n",
            "remote: Enumerating objects: 52, done.\u001b[K\n",
            "remote: Counting objects: 100% (52/52), done.\u001b[K\n",
            "remote: Compressing objects: 100% (46/46), done.\u001b[K\n",
            "remote: Total 52 (delta 10), reused 9 (delta 2), pack-reused 0\u001b[K\n",
            "Receiving objects: 100% (52/52), 572.39 KiB | 20.44 MiB/s, done.\n",
            "Resolving deltas: 100% (10/10), done.\n"
          ]
        }
      ]
    },
    {
      "cell_type": "code",
      "execution_count": null,
      "metadata": {
        "id": "04O-8yO7_FHv",
        "colab": {
          "base_uri": "https://localhost:8080/",
          "height": 915
        },
        "outputId": "bb5bccfc-6fc7-4a32-f749-d019ef647613"
      },
      "outputs": [
        {
          "output_type": "stream",
          "name": "stdout",
          "text": [
            "Collecting hazm\n",
            "  Downloading hazm-0.10.0-py3-none-any.whl (892 kB)\n",
            "\u001b[2K     \u001b[90m━━━━━━━━━━━━━━━━━━━━━━━━━━━━━━━━━━━━━━━━\u001b[0m \u001b[32m892.6/892.6 kB\u001b[0m \u001b[31m18.6 MB/s\u001b[0m eta \u001b[36m0:00:00\u001b[0m\n",
            "\u001b[?25hCollecting fasttext-wheel<0.10.0,>=0.9.2 (from hazm)\n",
            "  Downloading fasttext_wheel-0.9.2-cp310-cp310-manylinux_2_17_x86_64.manylinux2014_x86_64.whl (4.4 MB)\n",
            "\u001b[2K     \u001b[90m━━━━━━━━━━━━━━━━━━━━━━━━━━━━━━━━━━━━━━━━\u001b[0m \u001b[32m4.4/4.4 MB\u001b[0m \u001b[31m59.6 MB/s\u001b[0m eta \u001b[36m0:00:00\u001b[0m\n",
            "\u001b[?25hCollecting flashtext<3.0,>=2.7 (from hazm)\n",
            "  Downloading flashtext-2.7.tar.gz (14 kB)\n",
            "  Preparing metadata (setup.py) ... \u001b[?25l\u001b[?25hdone\n",
            "Requirement already satisfied: gensim<5.0.0,>=4.3.1 in /usr/local/lib/python3.10/dist-packages (from hazm) (4.3.2)\n",
            "Requirement already satisfied: nltk<4.0.0,>=3.8.1 in /usr/local/lib/python3.10/dist-packages (from hazm) (3.8.1)\n",
            "Collecting numpy==1.24.3 (from hazm)\n",
            "  Downloading numpy-1.24.3-cp310-cp310-manylinux_2_17_x86_64.manylinux2014_x86_64.whl (17.3 MB)\n",
            "\u001b[2K     \u001b[90m━━━━━━━━━━━━━━━━━━━━━━━━━━━━━━━━━━━━━━━━\u001b[0m \u001b[32m17.3/17.3 MB\u001b[0m \u001b[31m74.0 MB/s\u001b[0m eta \u001b[36m0:00:00\u001b[0m\n",
            "\u001b[?25hCollecting python-crfsuite<0.10.0,>=0.9.9 (from hazm)\n",
            "  Downloading python_crfsuite-0.9.10-cp310-cp310-manylinux_2_17_x86_64.manylinux2014_x86_64.whl (1.1 MB)\n",
            "\u001b[2K     \u001b[90m━━━━━━━━━━━━━━━━━━━━━━━━━━━━━━━━━━━━━━━━\u001b[0m \u001b[32m1.1/1.1 MB\u001b[0m \u001b[31m65.4 MB/s\u001b[0m eta \u001b[36m0:00:00\u001b[0m\n",
            "\u001b[?25hRequirement already satisfied: scikit-learn<2.0.0,>=1.2.2 in /usr/local/lib/python3.10/dist-packages (from hazm) (1.2.2)\n",
            "Collecting pybind11>=2.2 (from fasttext-wheel<0.10.0,>=0.9.2->hazm)\n",
            "  Downloading pybind11-2.11.1-py3-none-any.whl (227 kB)\n",
            "\u001b[2K     \u001b[90m━━━━━━━━━━━━━━━━━━━━━━━━━━━━━━━━━━━━━━━━\u001b[0m \u001b[32m227.7/227.7 kB\u001b[0m \u001b[31m31.2 MB/s\u001b[0m eta \u001b[36m0:00:00\u001b[0m\n",
            "\u001b[?25hRequirement already satisfied: setuptools>=0.7.0 in /usr/local/lib/python3.10/dist-packages (from fasttext-wheel<0.10.0,>=0.9.2->hazm) (67.7.2)\n",
            "Requirement already satisfied: scipy>=1.7.0 in /usr/local/lib/python3.10/dist-packages (from gensim<5.0.0,>=4.3.1->hazm) (1.11.4)\n",
            "Requirement already satisfied: smart-open>=1.8.1 in /usr/local/lib/python3.10/dist-packages (from gensim<5.0.0,>=4.3.1->hazm) (6.4.0)\n",
            "Requirement already satisfied: click in /usr/local/lib/python3.10/dist-packages (from nltk<4.0.0,>=3.8.1->hazm) (8.1.7)\n",
            "Requirement already satisfied: joblib in /usr/local/lib/python3.10/dist-packages (from nltk<4.0.0,>=3.8.1->hazm) (1.3.2)\n",
            "Requirement already satisfied: regex>=2021.8.3 in /usr/local/lib/python3.10/dist-packages (from nltk<4.0.0,>=3.8.1->hazm) (2023.6.3)\n",
            "Requirement already satisfied: tqdm in /usr/local/lib/python3.10/dist-packages (from nltk<4.0.0,>=3.8.1->hazm) (4.66.1)\n",
            "Requirement already satisfied: threadpoolctl>=2.0.0 in /usr/local/lib/python3.10/dist-packages (from scikit-learn<2.0.0,>=1.2.2->hazm) (3.2.0)\n",
            "Building wheels for collected packages: flashtext\n",
            "  Building wheel for flashtext (setup.py) ... \u001b[?25l\u001b[?25hdone\n",
            "  Created wheel for flashtext: filename=flashtext-2.7-py2.py3-none-any.whl size=9296 sha256=1f2da87f4fda138235b7f52d699e11558f01369d3eff736d6086b7853074c26c\n",
            "  Stored in directory: /root/.cache/pip/wheels/bc/be/39/c37ad168eb2ff644c9685f52554440372129450f0b8ed203dd\n",
            "Successfully built flashtext\n",
            "Installing collected packages: python-crfsuite, flashtext, pybind11, numpy, fasttext-wheel, hazm\n",
            "  Attempting uninstall: numpy\n",
            "    Found existing installation: numpy 1.23.5\n",
            "    Uninstalling numpy-1.23.5:\n",
            "      Successfully uninstalled numpy-1.23.5\n",
            "\u001b[31mERROR: pip's dependency resolver does not currently take into account all the packages that are installed. This behaviour is the source of the following dependency conflicts.\n",
            "lida 0.0.10 requires fastapi, which is not installed.\n",
            "lida 0.0.10 requires kaleido, which is not installed.\n",
            "lida 0.0.10 requires python-multipart, which is not installed.\n",
            "lida 0.0.10 requires uvicorn, which is not installed.\u001b[0m\u001b[31m\n",
            "\u001b[0mSuccessfully installed fasttext-wheel-0.9.2 flashtext-2.7 hazm-0.10.0 numpy-1.24.3 pybind11-2.11.1 python-crfsuite-0.9.10\n"
          ]
        },
        {
          "output_type": "display_data",
          "data": {
            "application/vnd.colab-display-data+json": {
              "pip_warning": {
                "packages": [
                  "numpy"
                ]
              }
            }
          },
          "metadata": {}
        }
      ],
      "source": [
        " pip install hazm"
      ]
    },
    {
      "cell_type": "code",
      "source": [
        "from google.colab import drive\n",
        "drive.mount('/content/drive')"
      ],
      "metadata": {
        "id": "0Fv1NQcsAwmE",
        "colab": {
          "base_uri": "https://localhost:8080/"
        },
        "outputId": "b23ed786-67c9-4321-e839-424cba45c63f"
      },
      "execution_count": null,
      "outputs": [
        {
          "output_type": "stream",
          "name": "stdout",
          "text": [
            "Mounted at /content/drive\n"
          ]
        }
      ]
    },
    {
      "cell_type": "code",
      "source": [
        "from hazm import Normalizer\n",
        "normalizer = Normalizer(persian_numbers=False,persian_style=False)"
      ],
      "metadata": {
        "id": "-zkY7Q6ZAGDW"
      },
      "execution_count": null,
      "outputs": []
    },
    {
      "cell_type": "code",
      "source": [
        "import joblib\n",
        "# joblib.dump(xlm_roberta_model_instance, '/content/drive/MyDrive/model_proj.joblib')\n",
        "loaded_model = joblib.load('/content/drive/MyDrive/model_proj.joblib')"
      ],
      "metadata": {
        "id": "cLnqHs5ZAsNU"
      },
      "execution_count": null,
      "outputs": []
    },
    {
      "cell_type": "code",
      "source": [
        "label_Dict= {\n",
        "  'OTHER': 0,\n",
        "  'HAPPY': 1,\n",
        "  'SURPRISE': 2,\n",
        "  'FEAR': 3,\n",
        "  'HATE': 4,\n",
        "  'ANGRY': 5,\n",
        "  'SAD': 6,\n",
        "}\n",
        "reversed_label_Dict = {\n",
        "  0: 'OTHER',\n",
        "  1: 'HAPPY',\n",
        "  2: 'SURPRISE',\n",
        "  3: 'FEAR',\n",
        "  4: 'HATE',\n",
        "  5: 'ANGRY',\n",
        "  6: 'SAD',\n",
        "}\n",
        "Tokenizer= XLMRobertaTokenizer.from_pretrained('xlm-roberta-base')"
      ],
      "metadata": {
        "id": "6hiiBJXKAIDy",
        "colab": {
          "base_uri": "https://localhost:8080/",
          "height": 237,
          "referenced_widgets": [
            "0caa3b096def48fa9d99e95c4376ef4e",
            "bfae0d4e7688428db0931b023fbc0692",
            "db9eb4e89f5f42a08c1f301a0dea6e4b",
            "f6c12fbe06b04b26903f8484609b212e",
            "30bde1dd511d4eb186a02eb7245a7f3b",
            "9a462144b8374d14b5d06e438e180288",
            "3b661e737c724843978f43ee3b86b600",
            "58bb2d8db9954e779c2c77eac9a44362",
            "2b8d20dc3fab4d8d887ae7041b3a287b",
            "69f40d660ad04aaf87fa42127775e74b",
            "a2712951f6134e49988fa39ff5872a07",
            "15e23aaff84148e7898180a8fbf482e1",
            "53b468ad62fc4673a1092418ffcf4156",
            "9dc2527f1e4c4199bb47b70d36f8c725",
            "456ef6dd8cd94f3fabfc937634f71a39",
            "30bc30dc948143bd83fbbb75dccb82dc",
            "bc2a789391a04981a3860bcea8011277",
            "8d024d78dd154588bca5064533ac9075",
            "884f647e86bf458bba5b0d6273923189",
            "749748d82a25451bb1df306b4c7737cd",
            "a273bf1ce7414c20b844552c332e4640",
            "72d85d8bbcbd448380d856e0ddd7dde4",
            "34d06772394345e4a46b1f0f298aadf2",
            "c15603a0787947348dfe5bbc306f41c9",
            "27b13a8c46b34591848601d069d1b5e9",
            "9da7c638ee42412c8ffb7125c7ce5b35",
            "14aa5770a9f24a7884fd1a919184888b",
            "5daf7b1efb8a47539a336db73edba700",
            "81fa825742944dadb6e98c9cd8a18ca0",
            "d4b3a9ce7b7146098ed61620bcea7a31",
            "0f3994f99ff6477b89d876a32369165c",
            "67c3a2e3c2774c19abb841f5e503578c",
            "ca969e9b6c3d4729b9e75c4bf178c1a1"
          ]
        },
        "outputId": "2be4491e-842d-44d3-e1c9-8f47cd8bfdf6"
      },
      "execution_count": null,
      "outputs": [
        {
          "output_type": "stream",
          "name": "stderr",
          "text": [
            "/usr/local/lib/python3.10/dist-packages/huggingface_hub/utils/_token.py:88: UserWarning: \n",
            "The secret `HF_TOKEN` does not exist in your Colab secrets.\n",
            "To authenticate with the Hugging Face Hub, create a token in your settings tab (https://huggingface.co/settings/tokens), set it as secret in your Google Colab and restart your session.\n",
            "You will be able to reuse this secret in all of your notebooks.\n",
            "Please note that authentication is recommended but still optional to access public models or datasets.\n",
            "  warnings.warn(\n"
          ]
        },
        {
          "output_type": "display_data",
          "data": {
            "text/plain": [
              "sentencepiece.bpe.model:   0%|          | 0.00/5.07M [00:00<?, ?B/s]"
            ],
            "application/vnd.jupyter.widget-view+json": {
              "version_major": 2,
              "version_minor": 0,
              "model_id": "0caa3b096def48fa9d99e95c4376ef4e"
            }
          },
          "metadata": {}
        },
        {
          "output_type": "display_data",
          "data": {
            "text/plain": [
              "tokenizer.json:   0%|          | 0.00/9.10M [00:00<?, ?B/s]"
            ],
            "application/vnd.jupyter.widget-view+json": {
              "version_major": 2,
              "version_minor": 0,
              "model_id": "15e23aaff84148e7898180a8fbf482e1"
            }
          },
          "metadata": {}
        },
        {
          "output_type": "display_data",
          "data": {
            "text/plain": [
              "config.json:   0%|          | 0.00/615 [00:00<?, ?B/s]"
            ],
            "application/vnd.jupyter.widget-view+json": {
              "version_major": 2,
              "version_minor": 0,
              "model_id": "34d06772394345e4a46b1f0f298aadf2"
            }
          },
          "metadata": {}
        }
      ]
    },
    {
      "cell_type": "code",
      "source": [
        "def predict_emoji(texts, model, tokenizer= Tokenizer, label_dict= reversed_label_Dict, max_length=128):\n",
        "    device = torch.device(\"cuda\" if torch.cuda.is_available() else \"cpu\") ## if you can use cuda(with gpu) use it, otherwise use cpu\n",
        "    model.eval()\n",
        "    num_classes = len(label_dict)\n",
        "    preds = torch.zeros(num_classes).to(device)\n",
        "    linear = torch.nn.Linear(model.fc.in_features, num_classes).to(device)\n",
        "    predicts = []\n",
        "    predict_codes = []\n",
        "\n",
        "    for text in tqdm(texts,position=0):\n",
        "\n",
        "        encoding = tokenizer(text, return_tensors='pt', max_length=max_length, padding='max_length', truncation=True)\n",
        "        input_ids = encoding['input_ids'].to(device)\n",
        "        attention_mask = encoding['attention_mask'].to(device)\n",
        "\n",
        "        with torch.no_grad():\n",
        "            logits = model(input_ids=input_ids, attention_mask=attention_mask)\n",
        "            preds += torch.sigmoid(logits).sum(dim=0)\n",
        "\n",
        "        preds /= len(texts)\n",
        "        preds = F.softmax(preds, dim=0)\n",
        "        _, label_idx = torch.max(preds, dim=0)\n",
        "        label = label_dict[label_idx.item()]\n",
        "        predicts.append(label)\n",
        "        predict_codes.append(label_idx.item())\n",
        "\n",
        "    return predicts , predict_codes\n"
      ],
      "metadata": {
        "id": "eFhobs3iALRj"
      },
      "execution_count": null,
      "outputs": []
    },
    {
      "cell_type": "code",
      "source": [
        "def predict(path, from_idx =0 , to_idx=-1):\n",
        "    test_df = pd.read_table(path, header=None)\n",
        "    # test_df = pd.read_csv(path, header=None)\n",
        "    test_df[1] = test_df[1].map(label_Dict)\n",
        "    test_texts, test_labels = test_df[0], test_df[1]\n",
        "    test_texts=test_texts.map(normalizer.normalize)\n",
        "    data = {'texts': test_texts, 'labels': test_labels,}\n",
        "    if to_idx ==-1:\n",
        "      predicts, predict_codes = predict_emoji(texts=data['texts'].tolist()[from_idx:], model=loaded_model)\n",
        "    else:\n",
        "      predicts, predict_codes = predict_emoji(texts=data['texts'].tolist()[from_idx:to_idx], model=loaded_model)\n",
        "\n",
        "    temp = []\n",
        "    for i, predict in enumerate(predicts):\n",
        "      # print(i,', predict: ', predict,', label: ', reversed_label_Dict[data['labels'][i]],', text: ', data['texts'][i])\n",
        "      temp.append([predict,reversed_label_Dict[data['labels'][i]],data['texts'][i]])\n",
        "    df = pd.DataFrame(temp, columns=['Predict', 'Label', 'Text'])\n",
        "    table = df.to_string()\n",
        "    print()\n",
        "    print(table)\n",
        "    return predicts, predict_codes\n"
      ],
      "metadata": {
        "id": "PV_cgGQuANM-"
      },
      "execution_count": null,
      "outputs": []
    },
    {
      "cell_type": "code",
      "source": [
        "def evaluate(path, from_idx =0 , to_idx=-1):\n",
        "    test_df = pd.read_table(path, header=None)\n",
        "    # test_df = pd.read_csv(path, header=None)\n",
        "\n",
        "    test_df[1] = test_df[1].map(label_Dict)\n",
        "    test_texts, test_labels = test_df[0], test_df[1]\n",
        "    test_texts=test_texts.map(normalizer.normalize)\n",
        "    data = {'texts': test_texts, 'labels': test_labels,}\n",
        "    if to_idx ==-1:\n",
        "      predicts, predict_codes = predict_emoji(texts=data['texts'].tolist()[from_idx:], model=loaded_model)\n",
        "      score = accuracy_score(data['labels'].tolist()[from_idx:], predict_codes)\n",
        "      report = classification_report(data['labels'].tolist()[from_idx:], predict_codes)\n",
        "    else:\n",
        "      predicts, predict_codes = predict_emoji(texts=data['texts'].tolist()[from_idx:to_idx], model=loaded_model)\n",
        "      score = accuracy_score(data['labels'].tolist()[from_idx:to_idx], predict_codes)\n",
        "      report = classification_report(data['labels'].tolist()[from_idx:to_idx], predict_codes)\n",
        "    print()\n",
        "    print('accuracy: ', score)\n",
        "    print(report)\n",
        "    return score, report"
      ],
      "metadata": {
        "id": "mQkyLGppAOw6"
      },
      "execution_count": null,
      "outputs": []
    },
    {
      "cell_type": "code",
      "source": [
        "# Path = '/content/arman-text-emotion/dataset/test.tsv'\n",
        "Path ='/content/Project_Test - testset.tsv'\n",
        "From_idx = 0\n",
        "To_idx = -1"
      ],
      "metadata": {
        "id": "uxp3IZEVAQaT"
      },
      "execution_count": null,
      "outputs": []
    },
    {
      "cell_type": "code",
      "source": [
        "predicts, predict_codes = predict(Path,From_idx,To_idx)"
      ],
      "metadata": {
        "id": "3SS7DJc6AR0K",
        "colab": {
          "base_uri": "https://localhost:8080/"
        },
        "outputId": "dedb074c-53f8-4211-fa96-2768b0da15ac"
      },
      "execution_count": null,
      "outputs": [
        {
          "output_type": "stream",
          "name": "stderr",
          "text": [
            "100%|██████████| 33/33 [00:02<00:00, 12.08it/s]"
          ]
        },
        {
          "output_type": "stream",
          "name": "stdout",
          "text": [
            "\n",
            "     Predict     Label                                                                                                                                                                                                                                                                                          Text\n",
            "0      HAPPY     HAPPY                                                                                                                                                                                                                                                            این فیلم عالی بود، حس خوبی بهم داد\n",
            "1       FEAR      FEAR                                                                                                                                                                                                                                                                 دلم برای این موقعیت نگران است\n",
            "2      HAPPY     HAPPY                                                                                                                                                                                                                                                            امروز هوا خیلی زیباست و من خوشحالم\n",
            "3        SAD       SAD                                                                                                                                                                                                                                                   این ماشین اصلا جواب نمیده، ازش خیلی ناراحتم\n",
            "4        SAD  SURPRISE                                                                                                                                                                                                                                    حالا که این خبرو شنیدم از دلم می‌خواستم بخندم یا گریه کنم؟\n",
            "5      OTHER     OTHER                                                                                                                                                                                                                                                                  باید به این مشکلات پایان داد\n",
            "6   SURPRISE  SURPRISE                                                                                                                                                                                                                                                                 از آخرین اخبار خیلی متعجب شدم\n",
            "7        SAD       SAD                                                                                                                                                                                                                                                        امروز خیلی خسته‌ام و اصلا خوشحال نیستم\n",
            "8        SAD     ANGRY                                                                                                                                                                                                                                                              این کار به نظرم اشتباه بزرگی بود\n",
            "9      OTHER     OTHER                                                                                                                                                                                                                                                              باید به زودی این مشکل را حل کنیم\n",
            "10     HAPPY     HAPPY                                                                                                                                                                                                                                                               این کتاب جالب و سرگرم‌کننده است\n",
            "11     ANGRY     ANGRY                                                                                                                                                                                                                                                        این دستگاه هیچ کاری نمی‌کند، عصبانی‌ام\n",
            "12       SAD       SAD                                                                                                                                                                                                                                                                 از دیدن این تصاویر ناراحت شدم\n",
            "13      FEAR      FEAR                                                                                                                                                                                                                                                    فکر می‌کنم امتحان‌ها را نمی‌توانم قبول شوم\n",
            "14     HAPPY     HAPPY                                                                                                                                                                                                                                                        این موسیقی زیباست و حس خوبی بهم می‌دهد\n",
            "15       SAD       SAD                                                                                                                                                                                                                                                     اینجا خیلی خلوت است و احساس تنهایی می‌کنم\n",
            "16     HAPPY     HAPPY                                                                                                                                                                                                                                                        این کلیپ خنده‌داری بود و من خوشحال شدم\n",
            "17     HAPPY     OTHER                                                                                                                                                                                                                                                           امیدوارم این مشکلات به زودی حل شوند\n",
            "18     HAPPY     HAPPY                                                                                                                                                                                                                                                        این جشن تولد خیلی خوب بود و من خوشحالم\n",
            "19     HAPPY     HAPPY                                                                                                                                                                                                                                                             از این اظهارنظرها خیلی خوشحال شدم\n",
            "20       SAD     OTHER                                                                                                                                                                                                                                                             این وضعیت جدید برام ناخوشایند است\n",
            "21       SAD       SAD                                                                                                                                                                                                                                                                  دلم برای این فرد تنگ شده است\n",
            "22       SAD     ANGRY                                                                                                                                                                                                                                              این قهری و ناراضی بودن از همه چیز خسته‌کننده است\n",
            "23  SURPRISE  SURPRISE                                                                                                                                                                                                                                                          این مطلب جدید من را به شدت متعجب کرد\n",
            "24     OTHER     OTHER                                                                                                                                                                                                                                                               این کتاب اطلاعات خوبی ارائه داد\n",
            "25       SAD       SAD                                                                                                                                                                                                                                                این موسیقی غم‌انگیز است و حالت ناراحتی بهم داد\n",
            "26     ANGRY     ANGRY                                                                                                                                                                                                                                                                               اعصابم خورد است\n",
            "27       SAD     ANGRY                                                                                                                                                                                                                                                   این وضعیت غیرقابل تحمل است و باید تغییر کند\n",
            "28       SAD       SAD                                                                                                      امروز رفتم مثلا خرید بعد ماه‌ها:))) رفتم بازار و هیچی نخریدم جز یه عینک و یه بلوز سکته ناقص و زدم. این حجم از گرونی واقعا برگ ریزونه: (((از لباساتون و وسایلتون به خوبی مراقبت کنید: (((\n",
            "29       SAD       SAD                                                                                                                                                                                                          هی آدمو ناراحت میکنن بعد میگن \"ناراحت نشو حالا\": (((خو مگه کرم داری؟ دله دیگه میشکنه\n",
            "30     HAPPY     HAPPY                                                                                                                                                                                                                                                       مژده جون \"پس مژه بزن که بریزه اشک شادی\"\n",
            "31  SURPRISE     HAPPY                                                                                                                                                                                                                 مبارک باشه، چه عجب بالاخره یکی از فالور‌ها برنده شد ????????????????????? ✅✅✅\n",
            "32  SURPRISE  SURPRISE  اولین نشست اجلاس صلح پاریس همزمان با صدومین سالگرد پایان جنگ جهانی اول برگزار شدکه 70 کشورجهان شرکت کردند -چرا #ایران که 8 تا 10 میلیون کشته داد دعوت نشد؟!! - #دیپلماسی_عمومی وزارت خارجه ما درواقعه‌ای که یک سوم جمعیت مارا به کشتن داد،، کجاست؟!!!!!!!!!!!!!!!!!!!!!!!!!!!!!!!!!!! -عجیبه\n"
          ]
        },
        {
          "output_type": "stream",
          "name": "stderr",
          "text": [
            "\n"
          ]
        }
      ]
    },
    {
      "cell_type": "code",
      "source": [
        "score, report = evaluate(Path,From_idx,To_idx)"
      ],
      "metadata": {
        "id": "ZSVVJF1cAVeM",
        "colab": {
          "base_uri": "https://localhost:8080/"
        },
        "outputId": "b49ad29e-4b0f-4720-9bde-d56b6c2007fe"
      },
      "execution_count": null,
      "outputs": [
        {
          "output_type": "stream",
          "name": "stderr",
          "text": [
            "100%|██████████| 33/33 [00:00<00:00, 38.77it/s]"
          ]
        },
        {
          "output_type": "stream",
          "name": "stdout",
          "text": [
            "\n",
            "accuracy:  0.7878787878787878\n",
            "              precision    recall  f1-score   support\n",
            "\n",
            "           0       1.00      0.60      0.75         5\n",
            "           1       0.89      0.89      0.89         9\n",
            "           2       0.75      0.75      0.75         4\n",
            "           3       1.00      1.00      1.00         2\n",
            "           5       1.00      0.40      0.57         5\n",
            "           6       0.62      1.00      0.76         8\n",
            "\n",
            "    accuracy                           0.79        33\n",
            "   macro avg       0.88      0.77      0.79        33\n",
            "weighted avg       0.85      0.79      0.78        33\n",
            "\n"
          ]
        },
        {
          "output_type": "stream",
          "name": "stderr",
          "text": [
            "\n"
          ]
        }
      ]
    }
  ]
}